{
 "cells": [
  {
   "cell_type": "markdown",
   "metadata": {},
   "source": [
    "This function is to be used with the \"create a new player\" GUI.\n",
    "\n",
    "This will be written in the form of a function that takes one input (name), creates an instance of the class Sammy, and then saving that instance to the corresponding pickle file. "
   ]
  },
  {
   "cell_type": "code",
   "execution_count": null,
   "metadata": {
    "collapsed": true
   },
   "outputs": [],
   "source": [
    "import numpy as np\n",
    "import pickle\n",
    "import datetime\n",
    "from numpy import pi, sqrt, linspace"
   ]
  },
  {
   "cell_type": "code",
   "execution_count": null,
   "metadata": {
    "collapsed": true
   },
   "outputs": [],
   "source": [
    "class Sammy:\n",
    "    \"\"\" The class Sammy will contain the information about each player, containing the following attributes: \n",
    "    \n",
    "    Attributes: \n",
    "        Name: A string representing the Sammy's name. This is the only input, and must be a string.\n",
    "        Password: A password to be entered by each player so no false games can be recorded. Defaults to string \"password\".\n",
    "        ELO: A list containing their ELO scores. Everyone starts at 1500\n",
    "        Sinks: A list containing the number of sinks per game\n",
    "        Score: A list containing the score of each game\n",
    "        Opponent Name: A list of names to ensure no false names are created to inflate or deflate ELOs. \n",
    "        Opponent Rank: A list containing the ELO of the opponent of each game\n",
    "    \"\"\"\n",
    "    def __init__(self, name):\n",
    "        self.name = name\n",
    "        self.password = 'password'\n",
    "        self.ELO = [1500]\n",
    "        self.sinks = []\n",
    "        self.score = []\n",
    "        self.oppname = []\n",
    "        self.opprank = []\n",
    "        self.date = [str(datetime.date.today())]"
   ]
  },
  {
   "cell_type": "code",
   "execution_count": null,
   "metadata": {
    "collapsed": true
   },
   "outputs": [],
   "source": [
    "\"\"\"\n",
    "Loads list of AllSammys\n",
    "\"\"\"\n",
    "import pickle\n",
    "pkl_file = open('AllSammys.pkl', 'rb')\n",
    "AllSammys = pickle.load(pkl_file)"
   ]
  },
  {
   "cell_type": "code",
   "execution_count": null,
   "metadata": {
    "collapsed": true
   },
   "outputs": [],
   "source": [
    "def createaplayer(name):\n",
    "    exec(\"%s = Sammy(name)\" % (name.replace(\" \",\"\")))\n",
    "    AllSammys.append(name)\n",
    "    output = open('AllSammys' + '.pkl', 'wb')\n",
    "    pickle.dump(AllSammys, output)"
   ]
  }
 ],
 "metadata": {
  "kernelspec": {
   "display_name": "Python 2",
   "language": "python",
   "name": "python2"
  },
  "language_info": {
   "codemirror_mode": {
    "name": "ipython",
    "version": 2
   },
   "file_extension": ".py",
   "mimetype": "text/x-python",
   "name": "python",
   "nbconvert_exporter": "python",
   "pygments_lexer": "ipython2",
   "version": "2.7.10"
  }
 },
 "nbformat": 4,
 "nbformat_minor": 0
}
